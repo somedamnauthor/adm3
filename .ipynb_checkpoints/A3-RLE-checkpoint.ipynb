{
 "cells": [
  {
   "cell_type": "code",
   "execution_count": 5,
   "id": "590bb4c0",
   "metadata": {},
   "outputs": [],
   "source": [
    "#imports\n",
    "import csv\n",
    "import time"
   ]
  },
  {
   "cell_type": "markdown",
   "id": "d423a001",
   "metadata": {},
   "source": [
    "### String"
   ]
  },
  {
   "cell_type": "markdown",
   "id": "64a6d5a9",
   "metadata": {},
   "source": [
    "#### String Decode"
   ]
  },
  {
   "cell_type": "code",
   "execution_count": 6,
   "id": "58611dab",
   "metadata": {},
   "outputs": [],
   "source": [
    "def decode(our_message):\n",
    "    decoded_message = \"\"\n",
    "    i = 0\n",
    "    j = 0\n",
    "    # splitting the encoded message into respective counts\n",
    "    while (i <= len(our_message) - 1):\n",
    "        run_count = int(our_message[i])\n",
    "        run_word = our_message[i + 1]\n",
    "        # displaying the character multiple times specified by the count\n",
    "        for j in range(run_count):\n",
    "            # concatenated with the decoded message\n",
    "            decoded_message = decoded_message+run_word\n",
    "            j = j + 1\n",
    "        i = i + 2\n",
    "    return decoded_message"
   ]
  },
  {
   "cell_type": "code",
   "execution_count": 7,
   "id": "aabc5f28",
   "metadata": {},
   "outputs": [],
   "source": [
    "def string_decode(ipFilepath, opFilepath):\n",
    "    \n",
    "    with open(ipFilepath) as file:\n",
    "        encodedLines = file.readlines()\n",
    "        \n",
    "    start = time.time()\n",
    "    decoded_lines = []\n",
    "    for line in encodedLines:\n",
    "        decoded_lines.append(decode(line))\n",
    "    end = time.time()\n",
    "    print(\"Time for Decode:\",str(end-start))\n",
    "    \n",
    "    decoded_file = open(opFilepath, \"w\")\n",
    "    for line in decoded_lines:\n",
    "        decoded_file.write(line)\n",
    "    decoded_file.close()"
   ]
  },
  {
   "cell_type": "markdown",
   "id": "d5e03164",
   "metadata": {},
   "source": [
    "#### String encode"
   ]
  },
  {
   "cell_type": "code",
   "execution_count": 8,
   "id": "882a24e4",
   "metadata": {},
   "outputs": [],
   "source": [
    "def encode_message(message):\n",
    "    encoded_string = \"\"\n",
    "    i = 0\n",
    "    while (i <= len(message)-1):\n",
    "        count = 1\n",
    "        ch = message[i]\n",
    "        j = i\n",
    "        while (j < len(message)-1): \n",
    "#         '''if the character at the current index is the same as the character at the next index. If the characters are the same, the count is incremented to 1'''    \n",
    "            if (message[j] == message[j + 1]): \n",
    "                count = count + 1\n",
    "                j = j + 1\n",
    "            else: \n",
    "                break\n",
    "        '''the count and the character is concatenated to the encoded string'''\n",
    "        encoded_string = encoded_string + str(count) + ch\n",
    "        i = j + 1\n",
    "    return encoded_string"
   ]
  },
  {
   "cell_type": "code",
   "execution_count": 9,
   "id": "4c97667f",
   "metadata": {},
   "outputs": [],
   "source": [
    "def string_encode(ipFilepath, opFilepath):\n",
    "\n",
    "    with open(ipFilepath) as file:\n",
    "        lines = file.readlines()\n",
    "        \n",
    "    start = time.time()\n",
    "    encoded_lines = []\n",
    "    for line in lines:\n",
    "        encoded_lines.append(encode_message(line))\n",
    "    end = time.time()\n",
    "    print(\"Time for Encode:\",str(end-start))\n",
    "    \n",
    "    encoded_file = open(opFilepath, \"w\")\n",
    "    for line in encoded_lines:\n",
    "        encoded_file.write(line)\n",
    "    encoded_file.close()"
   ]
  },
  {
   "cell_type": "markdown",
   "id": "137191a1",
   "metadata": {},
   "source": [
    "##### Use encode-decode"
   ]
  },
  {
   "cell_type": "code",
   "execution_count": 39,
   "id": "c193a7e1",
   "metadata": {},
   "outputs": [],
   "source": [
    "# ipFilepath = '../ADM-2020-Assignment-2-data-T-SF-1/l_comment-string.csv'\n",
    "# opFilepath = '../outputs/l_comment-string-en.csv'\n",
    "# string_encode(ipFilepath, opFilepath)"
   ]
  },
  {
   "cell_type": "code",
   "execution_count": 38,
   "id": "eada98be",
   "metadata": {},
   "outputs": [],
   "source": [
    "# ipFilepath = '../outputs/l_comment-string-en.csv'\n",
    "# opFilepath = '../outputs/l_comment-string-de.csv'\n",
    "# string_decode(ipFilepath, opFilepath)"
   ]
  },
  {
   "cell_type": "markdown",
   "id": "c9054de1",
   "metadata": {},
   "source": [
    "##### Use encode-decode again"
   ]
  },
  {
   "cell_type": "code",
   "execution_count": 37,
   "id": "97675d39",
   "metadata": {},
   "outputs": [],
   "source": [
    "# ipFilepath = '../ADM-2020-Assignment-2-data-T-SF-1/l_commitdate-string.csv'\n",
    "# opFilepath = '../outputs/l_commitdate-string-en.csv'\n",
    "# string_encode(ipFilepath, opFilepath)"
   ]
  },
  {
   "cell_type": "code",
   "execution_count": 36,
   "id": "34f04791",
   "metadata": {},
   "outputs": [],
   "source": [
    "# ipFilepath = '../outputs/l_commitdate-string-en.csv'\n",
    "# opFilepath = '../outputs/l_commitdate-string-de.csv'\n",
    "# string_decode(ipFilepath, opFilepath)"
   ]
  },
  {
   "cell_type": "markdown",
   "id": "1e8b9d4e",
   "metadata": {},
   "source": [
    "### int8"
   ]
  },
  {
   "cell_type": "markdown",
   "id": "371a0d86",
   "metadata": {},
   "source": [
    "#### Encode"
   ]
  },
  {
   "cell_type": "code",
   "execution_count": 10,
   "id": "51fab6c3",
   "metadata": {},
   "outputs": [],
   "source": [
    "def encode_ints(data):\n",
    "    encoding = ''\n",
    "    prev_char = ''\n",
    "    count = 1\n",
    "\n",
    "    if not data: return ''\n",
    "\n",
    "    for char in data:\n",
    "        # If the prev and current characters\n",
    "        # don't match...\n",
    "        if char != prev_char:\n",
    "            # ...then add the count and character\n",
    "            # to our encoding\n",
    "            if prev_char:\n",
    "                encoding += str(count) + prev_char\n",
    "            count = 1\n",
    "            prev_char = char\n",
    "        else:\n",
    "            # Or increment our counter\n",
    "            # if the characters do match\n",
    "            count += 1\n",
    "    else:\n",
    "        # Finish off the encoding\n",
    "        encoding += str(count) + prev_char\n",
    "        return encoding"
   ]
  },
  {
   "cell_type": "code",
   "execution_count": 11,
   "id": "6e7b606d",
   "metadata": {},
   "outputs": [],
   "source": [
    "def int8_encode(ipFilepath, opFilepath):\n",
    "    \n",
    "    with open(ipFilepath) as file:\n",
    "        lines = file.readlines()\n",
    "    \n",
    "    start = time.time()\n",
    "    enc = ''\n",
    "    for line in lines:\n",
    "        num = int(line[:-1])\n",
    "        if num <= 9:\n",
    "            enc+=str(line[:-1])\n",
    "        elif num == 10:\n",
    "            enc+='z'\n",
    "        elif num == 13:\n",
    "            enc+='v'\n",
    "        elif num == 48:\n",
    "            enc+='w'\n",
    "        elif num == 49:\n",
    "            enc+='x'\n",
    "        elif num == 50:\n",
    "            enc+='y'\n",
    "        else:\n",
    "            enc+=chr(num)\n",
    "            \n",
    "    enc_op = encode_ints(enc)\n",
    "    end = time.time()\n",
    "    print(\"Time for encode:\",str(end-start))\n",
    "    \n",
    "    encoded_file = open(opFilepath, \"w\")\n",
    "    n = encoded_file.write(enc_op)\n",
    "    encoded_file.close()"
   ]
  },
  {
   "cell_type": "markdown",
   "id": "f38ead16",
   "metadata": {},
   "source": [
    "#### Decode"
   ]
  },
  {
   "cell_type": "code",
   "execution_count": 13,
   "id": "a06243d7",
   "metadata": {},
   "outputs": [],
   "source": [
    "def int_decode(data):\n",
    "    i = 1\n",
    "    dec = ''\n",
    "    while(i<len(data)):\n",
    "        for j in range(0, int(data[i-1])):\n",
    "            dec+=data[i]\n",
    "        i+=2\n",
    "    return dec"
   ]
  },
  {
   "cell_type": "code",
   "execution_count": 14,
   "id": "b683d7bd",
   "metadata": {},
   "outputs": [],
   "source": [
    "def int8_decode(ipFilepath, opFilepath):\n",
    "    \n",
    "    with open(ipFilepath) as file:\n",
    "        lines = file.readlines()\n",
    "\n",
    "    enc_lines = lines[0]\n",
    "    \n",
    "    start = time.time()\n",
    "    \n",
    "    decoded_string = int_decode(enc_lines)\n",
    "    \n",
    "    decoded_list = []\n",
    "    for ch in decoded_string:\n",
    "        x = ord(ch)\n",
    "        if x == 122:\n",
    "            decoded_list.append(10)\n",
    "        elif x == 118:\n",
    "            decoded_list.append(13)\n",
    "        elif x == 119:\n",
    "            decoded_list.append(48)\n",
    "        elif x == 120:\n",
    "            decoded_list.append(49)\n",
    "        elif x == 121:\n",
    "            decoded_list.append(50)\n",
    "        elif x >=48 and x <= 57:\n",
    "            decoded_list.append(x-48)\n",
    "        else:\n",
    "            decoded_list.append(x)\n",
    "            \n",
    "    end = time.time()\n",
    "    print(\"Time for Decode:\",str(end-start))\n",
    "            \n",
    "    decoded_file = open(opFilepath, \"w\")\n",
    "    for line in decoded_list:\n",
    "        decoded_file.write(str(line)+\"\\n\")\n",
    "    decoded_file.close()"
   ]
  },
  {
   "cell_type": "markdown",
   "id": "da499da0",
   "metadata": {},
   "source": [
    "##### Use encode/Decode"
   ]
  },
  {
   "cell_type": "code",
   "execution_count": 35,
   "id": "7bb6a78d",
   "metadata": {},
   "outputs": [],
   "source": [
    "# ipFilepath = '../ADM-2020-Assignment-2-data-T-SF-1/l_discount-int8.csv'\n",
    "# opFilepath = '../outputs/l_discount-int8-en.csv'\n",
    "# int8_encode(ipFilepath, opFilepath)"
   ]
  },
  {
   "cell_type": "code",
   "execution_count": 34,
   "id": "26b18efb",
   "metadata": {},
   "outputs": [],
   "source": [
    "# ipFilepath = '../outputs/l_discount-int8-en.csv'\n",
    "# opFilepath = '../outputs/l_discount-int8-de.csv'\n",
    "# decode_int8(ipFilepath, opFilepath)"
   ]
  },
  {
   "cell_type": "markdown",
   "id": "338461de",
   "metadata": {},
   "source": [
    "##### Use encode/Decode Again"
   ]
  },
  {
   "cell_type": "code",
   "execution_count": 33,
   "id": "999f9d6a",
   "metadata": {},
   "outputs": [],
   "source": [
    "# ipFilepath = '../ADM-2020-Assignment-2-data-T-SF-1/l_linenumber-int8.csv'\n",
    "# opFilepath = '../outputs/l_linenumber-int8-en.csv'\n",
    "# int8_encode(ipFilepath, opFilepath)"
   ]
  },
  {
   "cell_type": "code",
   "execution_count": 32,
   "id": "1b668dc9",
   "metadata": {},
   "outputs": [],
   "source": [
    "# ipFilepath = '../outputs/l_linenumber-int8-en.csv'\n",
    "# opFilepath = '../outputs/l_linenumber-int8-de.csv'\n",
    "# decode_int8(ipFilepath, opFilepath)"
   ]
  },
  {
   "cell_type": "markdown",
   "id": "58386360",
   "metadata": {},
   "source": [
    "##### Use encode/Decode Again"
   ]
  },
  {
   "cell_type": "code",
   "execution_count": 31,
   "id": "6576cc28",
   "metadata": {},
   "outputs": [],
   "source": [
    "# ipFilepath = '../ADM-2020-Assignment-2-data-T-SF-1/l_quantity-int8.csv'\n",
    "# opFilepath = '../outputs/l_quantity-int8-en.csv'\n",
    "# int8_encode(ipFilepath, opFilepath)"
   ]
  },
  {
   "cell_type": "code",
   "execution_count": 30,
   "id": "af6029b0",
   "metadata": {},
   "outputs": [],
   "source": [
    "# ipFilepath = '../outputs/l_quantity-int8-en.csv'\n",
    "# opFilepath = '../outputs/l_quantity-int8-de.csv'\n",
    "# decode_int8(ipFilepath, opFilepath)"
   ]
  },
  {
   "cell_type": "markdown",
   "id": "7024f498",
   "metadata": {},
   "source": [
    "### int16"
   ]
  },
  {
   "cell_type": "markdown",
   "id": "fbd1fae6",
   "metadata": {},
   "source": [
    "##### Encode"
   ]
  },
  {
   "cell_type": "code",
   "execution_count": 15,
   "id": "4b2fda1d",
   "metadata": {},
   "outputs": [],
   "source": [
    "#https://stackoverflow.com/questions/46572023/run-length-encoding-python\n",
    "from itertools import chain, groupby\n",
    "\n",
    "def run_length(iterable):\n",
    "    return list(chain.from_iterable(\n",
    "        (val[:-1], len([*thing]))\n",
    "        for val, thing in groupby(iterable)\n",
    "    ))"
   ]
  },
  {
   "cell_type": "code",
   "execution_count": 16,
   "id": "513d00ac",
   "metadata": {},
   "outputs": [],
   "source": [
    "def int16_encode(ipFilepath, opFilepath):\n",
    "    \n",
    "    with open(ipFilepath) as file:\n",
    "        lines = file.readlines()\n",
    "        \n",
    "    start = time.time()\n",
    "    encodedList = run_length(lines)\n",
    "    encodedStr = ''\n",
    "    for i in encodedList:\n",
    "        encodedStr+=str(i)+' '\n",
    "    end = time.time()\n",
    "    print(\"Time for Encode:\",str(end-start))\n",
    "        \n",
    "    encoded_file = open(opFilepath, \"w\")\n",
    "    n = encoded_file.write(encodedStr)\n",
    "    encoded_file.close()"
   ]
  },
  {
   "cell_type": "markdown",
   "id": "c72795f3",
   "metadata": {},
   "source": [
    "##### Decode"
   ]
  },
  {
   "cell_type": "code",
   "execution_count": 17,
   "id": "9ca41cca",
   "metadata": {},
   "outputs": [],
   "source": [
    "def int16_decode(ipFilepath, opFilepath):\n",
    "    \n",
    "    with open(ipFilepath) as file:\n",
    "        lines = file.readlines()\n",
    "        \n",
    "    start = time.time()\n",
    "    tlist = lines[0].split()\n",
    "    decStr = ''\n",
    "    for i in range(0, len(tlist)):\n",
    "        if i%2!=0:\n",
    "            mul = int(tlist[i])\n",
    "            for j in range(0, mul):\n",
    "                decStr+=tlist[i-1]+'\\n'\n",
    "    end = time.time()\n",
    "    print(\"Time for Decode:\",str(end-start))\n",
    "    \n",
    "    decoded_file = open(opFilepath, \"w\")\n",
    "    for line in decStr:\n",
    "        decoded_file.write(line)\n",
    "    decoded_file.close()"
   ]
  },
  {
   "cell_type": "markdown",
   "id": "d025e3b7",
   "metadata": {},
   "source": [
    "##### Trying Encode/Decode"
   ]
  },
  {
   "cell_type": "code",
   "execution_count": 26,
   "id": "6e69621d",
   "metadata": {},
   "outputs": [],
   "source": [
    "# ipFilepath = '../ADM-2020-Assignment-2-data-T-SF-1/l_suppkey-int16.csv'\n",
    "# opFilepath = '../outputs/l_suppkey-int16-en.csv'\n",
    "# int16_encode(ipFilepath, opFilepath)"
   ]
  },
  {
   "cell_type": "code",
   "execution_count": 27,
   "id": "0859f990",
   "metadata": {},
   "outputs": [],
   "source": [
    "# ipFilepath = '../outputs/l_suppkey-int16-en.csv'\n",
    "# opFilepath = '../outputs/l_suppkey-int16-de.csv'\n",
    "# int16_decode(ipFilepath, opFilepath)"
   ]
  },
  {
   "cell_type": "code",
   "execution_count": 28,
   "id": "054fe81c",
   "metadata": {},
   "outputs": [],
   "source": [
    "# ipFilepath = '../ADM-2020-Assignment-2-data-T-SF-1/l_linenumber-int8.csv'\n",
    "# opFilepath = '../outputs/l_linenumber-int16-en.csv'\n",
    "# int16_encode(ipFilepath, opFilepath)"
   ]
  },
  {
   "cell_type": "code",
   "execution_count": 29,
   "id": "c5ca641c",
   "metadata": {},
   "outputs": [],
   "source": [
    "# ipFilepath = '../outputs/l_linenumber-int16-en.csv'\n",
    "# opFilepath = '../outputs/l_linenumber-int16-de.csv'\n",
    "# int16_decode(ipFilepath, opFilepath)"
   ]
  },
  {
   "cell_type": "markdown",
   "id": "f9b10922",
   "metadata": {},
   "source": [
    "# Combined in 1 function:"
   ]
  },
  {
   "cell_type": "code",
   "execution_count": 24,
   "id": "791f66a0",
   "metadata": {},
   "outputs": [],
   "source": [
    "#arguments\n",
    "action = 'de'\n",
    "technique = 'rle'\n",
    "dtype = 'int16'\n",
    "ipFilepath = '../ADM-2020-Assignment-2-data-T-SF-1/l_suppkey-int16.csv'\n",
    "# ipFilepath = '../outputs/out.csv'"
   ]
  },
  {
   "cell_type": "code",
   "execution_count": 25,
   "id": "cf757434",
   "metadata": {},
   "outputs": [],
   "source": [
    "def execEncDec(action, technique, dtype, ipFilepath):\n",
    "    \n",
    "    opFilepath = '../outputs/out.csv'\n",
    "    \n",
    "    if technique != 'rle':\n",
    "        return 0\n",
    "    \n",
    "    if dtype=='int8':\n",
    "        \n",
    "        if action == 'en':\n",
    "            int8_encode(ipFilepath, opFilepath)\n",
    "            \n",
    "        elif action == 'de':\n",
    "            int8_decode(ipFilepath, opFilepath)\n",
    "    \n",
    "    elif dtype == 'int16' or dtype == 'int32' or dtype == 'int64':\n",
    "        \n",
    "        if action == 'en':\n",
    "            int16_encode(ipFilepath, opFilepath)\n",
    "            \n",
    "        elif action == 'de':\n",
    "            int16_decode(ipFilepath, opFilepath)\n",
    "            \n",
    "    elif dtype == 'string':\n",
    "        \n",
    "        if action == 'en':\n",
    "            string_encode(ipFilepath, opFilepath)\n",
    "            \n",
    "        elif action == 'de':\n",
    "            string_decode(ipFilepath, opFilepath)"
   ]
  },
  {
   "cell_type": "code",
   "execution_count": 23,
   "id": "8f714e89",
   "metadata": {},
   "outputs": [
    {
     "name": "stdout",
     "output_type": "stream",
     "text": [
      "Time for Decode: 2.318337917327881\n"
     ]
    }
   ],
   "source": [
    "execEncDec(action, technique, dtype, ipFilepath)"
   ]
  }
 ],
 "metadata": {
  "kernelspec": {
   "display_name": "Python 3 (ipykernel)",
   "language": "python",
   "name": "python3"
  },
  "language_info": {
   "codemirror_mode": {
    "name": "ipython",
    "version": 3
   },
   "file_extension": ".py",
   "mimetype": "text/x-python",
   "name": "python",
   "nbconvert_exporter": "python",
   "pygments_lexer": "ipython3",
   "version": "3.8.10"
  }
 },
 "nbformat": 4,
 "nbformat_minor": 5
}
